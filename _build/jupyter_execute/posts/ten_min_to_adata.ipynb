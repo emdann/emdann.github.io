{
 "cells": [
  {
   "cell_type": "markdown",
   "id": "e5c66665",
   "metadata": {},
   "source": [
    "# 5, maybe 10 minutes to AnnData\n",
    "\n",
    "```{article-info}\n",
    ":date: November 13, 2021\n",
    ":read-time: 5-10 min read\n",
    ":class-container: sd-p-2 sd-outline-muted sd-rounded-1\n",
    "```\n",
    "\n",
    "```{admonition} Update (May 4, 2023)\n",
    "I now recommend the default AnnData [tutorial](https://anndata.readthedocs.io/en/latest/tutorials/notebooks/getting-started.html) and scverse [tutorial](https://scverse-tutorials.readthedocs.io/en/latest/notebooks/anndata_getting_started.html).\n",
    "```\n",
    "\n",
    "\n",
    "I regularly use [Scanpy](https://scanpy.readthedocs.io) to analyze single-cell genomics data.\n",
    "Scanpy's functionality heavily depends on the data being stored in an [AnnData](https://anndata.readthedocs.io/en/latest/) object, which provides Scanpy a systematic way of storing and retrieving intermediate analysis results, like principal components scores, [UMAP](https://umap-learn.readthedocs.io/) embeddings, cluster labels, etc.\n",
    "While the Scanpy documentation site has [tutorials](https://scanpy.readthedocs.io/en/stable/tutorials.html) covering common use cases, there remains a lack of tutorials for AnnData specifically. Here I cover the basics.\n",
    "\n",
    "## Why AnnData?\n",
    "\n",
    "AnnData (\"Annotated Data\") is specifically designed for tabular data. By this I mean that we have $N$ observations (typically cells), each of which can be represented as $d$-dimensional vectors, where each dimension corresponds to a variable or feature (typically a gene). Both the rows and columns of this $N \\times d$ matrix are special in the sense that they are indexed. In scRNA-seq, each row corresponds to a cell with a barcode, and each column corresponds to one gene. Furthermore, for each cell and each gene we might have additional metadata, like (1) donor information for each cell, or (2) alternative gene symbols for each gene.\n",
    "Finally, we might have other unstructured metadata like color palletes we are using for plotting.\n",
    "Without going into every fancy Python-based data structure, you'll have to take my word that no other alternative really exists that:\n",
    "\n",
    "1. Handles sparsity\n",
    "1. Handles unstructured data\n",
    "1. Handles observation- and feature-level metadata\n",
    "1. Is user-friendly\n",
    "\n",
    "## Initializing AnnData\n",
    "\n",
    "\n",
    "<!-- Perhaps [xarray](https://xarray.pydata.org/en/stable/) is the closest in terms of functionality, -->\n",
    "\n",
    "Let's start by building a basic AnnData object with some sparse count information, perhaps representing gene expression counts."
   ]
  },
  {
   "cell_type": "code",
   "execution_count": 1,
   "id": "5b5566d7",
   "metadata": {},
   "outputs": [
    {
     "data": {
      "text/plain": [
       "AnnData object with n_obs × n_vars = 100 × 2000"
      ]
     },
     "execution_count": 1,
     "metadata": {},
     "output_type": "execute_result"
    }
   ],
   "source": [
    "import anndata\n",
    "import numpy as np\n",
    "from scipy.sparse import csr_matrix\n",
    "counts = csr_matrix(np.random.poisson(1, size=(100, 2000)))\n",
    "adata = anndata.AnnData(counts)\n",
    "adata"
   ]
  },
  {
   "cell_type": "markdown",
   "id": "d4982cb5",
   "metadata": {},
   "source": [
    "We see that AnnData provides a representation with summary stastics of the data The initial data we passed are accessible as a sparse matrix using `adata.X`."
   ]
  },
  {
   "cell_type": "code",
   "execution_count": 2,
   "id": "9d20b014",
   "metadata": {},
   "outputs": [
    {
     "data": {
      "text/plain": [
       "<100x2000 sparse matrix of type '<class 'numpy.int64'>'\n",
       "\twith 126315 stored elements in Compressed Sparse Row format>"
      ]
     },
     "execution_count": 2,
     "metadata": {},
     "output_type": "execute_result"
    }
   ],
   "source": [
    "adata.X"
   ]
  },
  {
   "cell_type": "markdown",
   "id": "a265a1bf",
   "metadata": {},
   "source": [
    "Now, we provide the index to both the `obs` and `var` axes using `.obs_names` (resp. `.var_names`)."
   ]
  },
  {
   "cell_type": "code",
   "execution_count": 3,
   "id": "bc210f36",
   "metadata": {},
   "outputs": [
    {
     "name": "stdout",
     "output_type": "stream",
     "text": [
      "Index(['Cell_0', 'Cell_1', 'Cell_2', 'Cell_3', 'Cell_4', 'Cell_5', 'Cell_6',\n",
      "       'Cell_7', 'Cell_8', 'Cell_9'],\n",
      "      dtype='object')\n"
     ]
    }
   ],
   "source": [
    "adata.obs_names = [f\"Cell_{i}\" for i in range(adata.n_obs)]\n",
    "adata.var_names = [f\"Gene_{i}\" for i in range(adata.n_vars)]\n",
    "print(adata.obs_names[:10])"
   ]
  },
  {
   "cell_type": "markdown",
   "id": "c908ede6",
   "metadata": {},
   "source": [
    "### Subsetting AnnData\n",
    "\n",
    "These index values can be used to subset the AnnData, which provides a [view](https://falexwolf.de/blog/171223_AnnData_indexing_views_HDF5-backing/) of the AnnData object. We can imagine this to be useful to subset the AnnData to particular cell types or gene modules of interest. The rules for subsetting AnnData are quite similar to that of a Pandas DataFrame. You can use values in the `obs/var_names`, boolean masks, or cell index integers."
   ]
  },
  {
   "cell_type": "code",
   "execution_count": 4,
   "id": "9486b30c",
   "metadata": {},
   "outputs": [
    {
     "data": {
      "text/plain": [
       "View of AnnData object with n_obs × n_vars = 2 × 2"
      ]
     },
     "execution_count": 4,
     "metadata": {},
     "output_type": "execute_result"
    }
   ],
   "source": [
    "adata[[\"Cell_1\", \"Cell_10\"], [\"Gene_5\", \"Gene_1900\"]]"
   ]
  },
  {
   "cell_type": "markdown",
   "id": "d1e3b743",
   "metadata": {},
   "source": [
    "## Adding aligned metadata\n",
    "\n",
    "### Observation/Variable level\n",
    "So we have the core of our object and now we'd like to add metadata at both the observation and variable levels. This is pretty simple with AnnData, both `adata.obs` and `adata.var` are Pandas DataFrames."
   ]
  },
  {
   "cell_type": "code",
   "execution_count": 5,
   "id": "ea72eaff",
   "metadata": {},
   "outputs": [
    {
     "data": {
      "text/html": [
       "<div>\n",
       "<style scoped>\n",
       "    .dataframe tbody tr th:only-of-type {\n",
       "        vertical-align: middle;\n",
       "    }\n",
       "\n",
       "    .dataframe tbody tr th {\n",
       "        vertical-align: top;\n",
       "    }\n",
       "\n",
       "    .dataframe thead th {\n",
       "        text-align: right;\n",
       "    }\n",
       "</style>\n",
       "<table border=\"1\" class=\"dataframe\">\n",
       "  <thead>\n",
       "    <tr style=\"text-align: right;\">\n",
       "      <th></th>\n",
       "      <th>cell_type</th>\n",
       "    </tr>\n",
       "  </thead>\n",
       "  <tbody>\n",
       "    <tr>\n",
       "      <th>Cell_0</th>\n",
       "      <td>Monocyte</td>\n",
       "    </tr>\n",
       "    <tr>\n",
       "      <th>Cell_1</th>\n",
       "      <td>Monocyte</td>\n",
       "    </tr>\n",
       "    <tr>\n",
       "      <th>Cell_2</th>\n",
       "      <td>T</td>\n",
       "    </tr>\n",
       "    <tr>\n",
       "      <th>Cell_3</th>\n",
       "      <td>T</td>\n",
       "    </tr>\n",
       "    <tr>\n",
       "      <th>Cell_4</th>\n",
       "      <td>B</td>\n",
       "    </tr>\n",
       "    <tr>\n",
       "      <th>...</th>\n",
       "      <td>...</td>\n",
       "    </tr>\n",
       "    <tr>\n",
       "      <th>Cell_95</th>\n",
       "      <td>T</td>\n",
       "    </tr>\n",
       "    <tr>\n",
       "      <th>Cell_96</th>\n",
       "      <td>Monocyte</td>\n",
       "    </tr>\n",
       "    <tr>\n",
       "      <th>Cell_97</th>\n",
       "      <td>Monocyte</td>\n",
       "    </tr>\n",
       "    <tr>\n",
       "      <th>Cell_98</th>\n",
       "      <td>T</td>\n",
       "    </tr>\n",
       "    <tr>\n",
       "      <th>Cell_99</th>\n",
       "      <td>T</td>\n",
       "    </tr>\n",
       "  </tbody>\n",
       "</table>\n",
       "<p>100 rows × 1 columns</p>\n",
       "</div>"
      ],
      "text/plain": [
       "        cell_type\n",
       "Cell_0   Monocyte\n",
       "Cell_1   Monocyte\n",
       "Cell_2          T\n",
       "Cell_3          T\n",
       "Cell_4          B\n",
       "...           ...\n",
       "Cell_95         T\n",
       "Cell_96  Monocyte\n",
       "Cell_97  Monocyte\n",
       "Cell_98         T\n",
       "Cell_99         T\n",
       "\n",
       "[100 rows x 1 columns]"
      ]
     },
     "execution_count": 5,
     "metadata": {},
     "output_type": "execute_result"
    }
   ],
   "source": [
    "ct = np.random.choice([\"B\", \"T\", \"Monocyte\"], size=(adata.n_obs,))\n",
    "adata.obs[\"cell_type\"] = ct\n",
    "adata.obs"
   ]
  },
  {
   "cell_type": "markdown",
   "id": "04c19556",
   "metadata": {},
   "source": [
    "We can also see now that the AnnData representation has been updated:"
   ]
  },
  {
   "cell_type": "code",
   "execution_count": 6,
   "id": "99eaf275",
   "metadata": {},
   "outputs": [
    {
     "data": {
      "text/plain": [
       "AnnData object with n_obs × n_vars = 100 × 2000\n",
       "    obs: 'cell_type'"
      ]
     },
     "execution_count": 6,
     "metadata": {},
     "output_type": "execute_result"
    }
   ],
   "source": [
    "adata"
   ]
  },
  {
   "cell_type": "markdown",
   "id": "08f4c768",
   "metadata": {},
   "source": [
    "### Subsetting using metadata\n",
    "\n",
    "We can also subset the AnnData using these randomly generated cell types:"
   ]
  },
  {
   "cell_type": "code",
   "execution_count": 7,
   "id": "58258fde",
   "metadata": {},
   "outputs": [
    {
     "data": {
      "text/plain": [
       "View of AnnData object with n_obs × n_vars = 27 × 2000\n",
       "    obs: 'cell_type'"
      ]
     },
     "execution_count": 7,
     "metadata": {},
     "output_type": "execute_result"
    }
   ],
   "source": [
    "bdata = adata[adata.obs.cell_type == \"B\"]\n",
    "bdata"
   ]
  },
  {
   "cell_type": "markdown",
   "id": "bf5e9713",
   "metadata": {},
   "source": [
    "## Observation/Variable level matrices\n",
    "\n",
    "We might also have metadata at either level that has many dimensions to it, such as a UMAP embedding of the data. For this type of metadata, AnnData has the `.obsm/.varm` attributes. We use keys to identify the different matrices we insert. The restriction of `.obsm/.varm` are that `.obsm` matrices must length equal to the number of observations as `.n_obs` and `.varm` matrices must length equal to `.n_vars`. They can each independently have different number of dimensions.\n",
    "\n",
    "Let's start with a randomly generated matrix that we can interpret as a UMAP embedding of the data we'd like to store, as well as some random gene-level metadata:"
   ]
  },
  {
   "cell_type": "code",
   "execution_count": 8,
   "id": "ebc593b0",
   "metadata": {},
   "outputs": [
    {
     "data": {
      "text/plain": [
       "AxisArrays with keys: X_umap"
      ]
     },
     "execution_count": 8,
     "metadata": {},
     "output_type": "execute_result"
    }
   ],
   "source": [
    "adata.obsm[\"X_umap\"] = np.random.normal(0, 1, size=(adata.n_obs, 2))\n",
    "adata.varm[\"gene_stuff\"] = np.random.normal(0, 1, size=(adata.n_vars, 5))\n",
    "adata.obsm"
   ]
  },
  {
   "cell_type": "markdown",
   "id": "9e800b16",
   "metadata": {},
   "source": [
    "Again, the AnnData representation is updated."
   ]
  },
  {
   "cell_type": "code",
   "execution_count": 9,
   "id": "dd4f62b2",
   "metadata": {},
   "outputs": [
    {
     "data": {
      "text/plain": [
       "AnnData object with n_obs × n_vars = 100 × 2000\n",
       "    obs: 'cell_type'\n",
       "    obsm: 'X_umap'\n",
       "    varm: 'gene_stuff'"
      ]
     },
     "execution_count": 9,
     "metadata": {},
     "output_type": "execute_result"
    }
   ],
   "source": [
    "adata"
   ]
  },
  {
   "cell_type": "markdown",
   "id": "c58c0385",
   "metadata": {},
   "source": [
    "A few more notes about `.obsm/.varm`\n",
    "\n",
    "1. The \"array-like\" metadata can originate from a Pandas DataFrame, scipy sparse matrix, or numpy dense array.\n",
    "1. When using scanpy, their values (columns) are not easily plotted, where instead items from `.obs` are easily plotted on, e.g., UMAP plots.\n",
    "\n",
    "## Unstructured metadata\n",
    "\n",
    "AnnData has `.uns`, which allows for any unstructured metadata. This can be anything, like a list or a dictionary with some general information that was useful in the analysis of our data."
   ]
  },
  {
   "cell_type": "code",
   "execution_count": 10,
   "id": "fc958ab3",
   "metadata": {},
   "outputs": [
    {
     "data": {
      "text/plain": [
       "OrderedDict([('random', [1, 2, 3])])"
      ]
     },
     "execution_count": 10,
     "metadata": {},
     "output_type": "execute_result"
    }
   ],
   "source": [
    "adata.uns[\"random\"] = [1, 2, 3]\n",
    "adata.uns"
   ]
  },
  {
   "cell_type": "markdown",
   "id": "c677b303",
   "metadata": {},
   "source": [
    "## Layers\n",
    "\n",
    "Finally, we may have different forms of our original core data, perhaps one that is normalized and one that is not. These can be stored in different layers in AnnData. For example, let's log transform the original data and store it in a layer:"
   ]
  },
  {
   "cell_type": "code",
   "execution_count": 11,
   "id": "bc14d8ef",
   "metadata": {},
   "outputs": [
    {
     "data": {
      "text/plain": [
       "AnnData object with n_obs × n_vars = 100 × 2000\n",
       "    obs: 'cell_type'\n",
       "    uns: 'random'\n",
       "    obsm: 'X_umap'\n",
       "    varm: 'gene_stuff'\n",
       "    layers: 'log_transformed'"
      ]
     },
     "execution_count": 11,
     "metadata": {},
     "output_type": "execute_result"
    }
   ],
   "source": [
    "adata.layers[\"log_transformed\"] = np.log1p(adata.X)\n",
    "adata"
   ]
  },
  {
   "cell_type": "markdown",
   "id": "fc8c070e",
   "metadata": {},
   "source": [
    "### Outputting DataFrames\n",
    "\n",
    "We can also ask AnnData to return us a DataFrame from one of the layers:"
   ]
  },
  {
   "cell_type": "code",
   "execution_count": 12,
   "id": "aaa21273",
   "metadata": {},
   "outputs": [
    {
     "data": {
      "text/html": [
       "<div>\n",
       "<style scoped>\n",
       "    .dataframe tbody tr th:only-of-type {\n",
       "        vertical-align: middle;\n",
       "    }\n",
       "\n",
       "    .dataframe tbody tr th {\n",
       "        vertical-align: top;\n",
       "    }\n",
       "\n",
       "    .dataframe thead th {\n",
       "        text-align: right;\n",
       "    }\n",
       "</style>\n",
       "<table border=\"1\" class=\"dataframe\">\n",
       "  <thead>\n",
       "    <tr style=\"text-align: right;\">\n",
       "      <th></th>\n",
       "      <th>Gene_0</th>\n",
       "      <th>Gene_1</th>\n",
       "      <th>Gene_2</th>\n",
       "      <th>Gene_3</th>\n",
       "      <th>Gene_4</th>\n",
       "    </tr>\n",
       "  </thead>\n",
       "  <tbody>\n",
       "    <tr>\n",
       "      <th>Cell_0</th>\n",
       "      <td>1.386294</td>\n",
       "      <td>0.693147</td>\n",
       "      <td>0.000000</td>\n",
       "      <td>0.000000</td>\n",
       "      <td>1.098612</td>\n",
       "    </tr>\n",
       "    <tr>\n",
       "      <th>Cell_1</th>\n",
       "      <td>1.098612</td>\n",
       "      <td>0.693147</td>\n",
       "      <td>0.000000</td>\n",
       "      <td>1.098612</td>\n",
       "      <td>0.693147</td>\n",
       "    </tr>\n",
       "    <tr>\n",
       "      <th>Cell_2</th>\n",
       "      <td>0.693147</td>\n",
       "      <td>0.693147</td>\n",
       "      <td>1.098612</td>\n",
       "      <td>0.693147</td>\n",
       "      <td>0.693147</td>\n",
       "    </tr>\n",
       "    <tr>\n",
       "      <th>Cell_3</th>\n",
       "      <td>1.609438</td>\n",
       "      <td>0.693147</td>\n",
       "      <td>0.693147</td>\n",
       "      <td>0.000000</td>\n",
       "      <td>0.000000</td>\n",
       "    </tr>\n",
       "    <tr>\n",
       "      <th>Cell_4</th>\n",
       "      <td>0.000000</td>\n",
       "      <td>0.000000</td>\n",
       "      <td>1.386294</td>\n",
       "      <td>0.693147</td>\n",
       "      <td>0.693147</td>\n",
       "    </tr>\n",
       "    <tr>\n",
       "      <th>...</th>\n",
       "      <td>...</td>\n",
       "      <td>...</td>\n",
       "      <td>...</td>\n",
       "      <td>...</td>\n",
       "      <td>...</td>\n",
       "    </tr>\n",
       "    <tr>\n",
       "      <th>Cell_95</th>\n",
       "      <td>1.098612</td>\n",
       "      <td>1.386294</td>\n",
       "      <td>1.098612</td>\n",
       "      <td>0.000000</td>\n",
       "      <td>0.000000</td>\n",
       "    </tr>\n",
       "    <tr>\n",
       "      <th>Cell_96</th>\n",
       "      <td>0.693147</td>\n",
       "      <td>0.000000</td>\n",
       "      <td>0.000000</td>\n",
       "      <td>0.693147</td>\n",
       "      <td>1.098612</td>\n",
       "    </tr>\n",
       "    <tr>\n",
       "      <th>Cell_97</th>\n",
       "      <td>0.693147</td>\n",
       "      <td>1.098612</td>\n",
       "      <td>0.693147</td>\n",
       "      <td>0.693147</td>\n",
       "      <td>0.693147</td>\n",
       "    </tr>\n",
       "    <tr>\n",
       "      <th>Cell_98</th>\n",
       "      <td>0.693147</td>\n",
       "      <td>1.098612</td>\n",
       "      <td>0.000000</td>\n",
       "      <td>0.693147</td>\n",
       "      <td>0.693147</td>\n",
       "    </tr>\n",
       "    <tr>\n",
       "      <th>Cell_99</th>\n",
       "      <td>0.000000</td>\n",
       "      <td>0.693147</td>\n",
       "      <td>1.386294</td>\n",
       "      <td>0.693147</td>\n",
       "      <td>0.693147</td>\n",
       "    </tr>\n",
       "  </tbody>\n",
       "</table>\n",
       "<p>100 rows × 5 columns</p>\n",
       "</div>"
      ],
      "text/plain": [
       "           Gene_0    Gene_1    Gene_2    Gene_3    Gene_4\n",
       "Cell_0   1.386294  0.693147  0.000000  0.000000  1.098612\n",
       "Cell_1   1.098612  0.693147  0.000000  1.098612  0.693147\n",
       "Cell_2   0.693147  0.693147  1.098612  0.693147  0.693147\n",
       "Cell_3   1.609438  0.693147  0.693147  0.000000  0.000000\n",
       "Cell_4   0.000000  0.000000  1.386294  0.693147  0.693147\n",
       "...           ...       ...       ...       ...       ...\n",
       "Cell_95  1.098612  1.386294  1.098612  0.000000  0.000000\n",
       "Cell_96  0.693147  0.000000  0.000000  0.693147  1.098612\n",
       "Cell_97  0.693147  1.098612  0.693147  0.693147  0.693147\n",
       "Cell_98  0.693147  1.098612  0.000000  0.693147  0.693147\n",
       "Cell_99  0.000000  0.693147  1.386294  0.693147  0.693147\n",
       "\n",
       "[100 rows x 5 columns]"
      ]
     },
     "execution_count": 12,
     "metadata": {},
     "output_type": "execute_result"
    }
   ],
   "source": [
    "adata.to_df(layer=\"log_transformed\").iloc[:, :5]"
   ]
  },
  {
   "cell_type": "markdown",
   "id": "74555362",
   "metadata": {},
   "source": [
    "We see that the `.obs_names/.var_names` are used in the creation of this Pandas object.\n",
    "\n",
    "\n",
    "## Wrapping up\n",
    "\n",
    "AnnData has become the standard for single-cell analysis in Python and for good reason -- it's straightforward to use and faciliatates more reproducible analyses with it's key-based storage. It's even becoming easier to convert to the popular R-based formats for single-cell analysis. There is still a lot that I don't cover here. I do encourage looking through the AnnData [API docs](https://anndata.readthedocs.io/en/latest/) for more useful properties/methods."
   ]
  }
 ],
 "metadata": {
  "jupytext": {
   "formats": "md:myst",
   "text_representation": {
    "extension": ".md",
    "format_name": "myst",
    "format_version": "0.8",
    "jupytext_version": "1.4.1+dev"
   }
  },
  "kernelspec": {
   "display_name": "Python 3",
   "language": "python",
   "name": "python3"
  },
  "language_info": {
   "codemirror_mode": {
    "name": "ipython",
    "version": 3
   },
   "file_extension": ".py",
   "mimetype": "text/x-python",
   "name": "python",
   "nbconvert_exporter": "python",
   "pygments_lexer": "ipython3",
   "version": "3.10.12"
  },
  "source_map": [
   13,
   50,
   57,
   61,
   63,
   68,
   72,
   78,
   80,
   87,
   91,
   95,
   97,
   104,
   107,
   115,
   119,
   122,
   124,
   135,
   138,
   144,
   147,
   152,
   154
  ]
 },
 "nbformat": 4,
 "nbformat_minor": 5
}